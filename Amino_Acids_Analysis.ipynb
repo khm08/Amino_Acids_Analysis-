{
 "cells": [
  {
   "cell_type": "markdown",
   "id": "c2db2f14",
   "metadata": {},
   "source": [
    "# Amino Acids and Their Role in Fitness\n",
    "This analysis explores various amino acids commonly used in fitness supplements, focusing on their roles in muscle recovery, strength, and hypertrophy. We will examine the function and evidence supporting each amino acid, using both descriptive and predictive analytics to understand their efficacy."
   ]
  },
  {
   "cell_type": "markdown",
   "id": "ec95e32e",
   "metadata": {},
   "source": [
    "## 1. Introduction\n",
    "Amino acids are the building blocks of protein and play crucial roles in muscle protein synthesis, recovery, strength, and hypertrophy. This analysis focuses on essential amino acids (EAAs), branched-chain amino acids (BCAAs), conditionally essential amino acids, and non-essential amino acids, examining their function, supporting evidence, and potential effects on fitness."
   ]
  },
  {
   "cell_type": "code",
   "execution_count": null,
   "id": "386593d0",
   "metadata": {},
   "outputs": [],
   "source": [
    "import pandas as pd\n",
    "import numpy as np\n",
    "import matplotlib.pyplot as plt\n",
    "import seaborn as sns\n",
    "from scipy import stats\n",
    "sns.set(style='whitegrid')\n",
    "from IPython.display import display"
   ]
  },
  {
   "cell_type": "markdown",
   "id": "a3028d62",
   "metadata": {},
   "source": [
    "## 2. Data Loading\n",
    "We will create synthetic data for each amino acid to simulate their impact on muscle protein synthesis, recovery rates, strength gains, and hypertrophy."
   ]
  },
  {
   "cell_type": "code",
   "execution_count": null,
   "id": "28c8718f",
   "metadata": {},
   "outputs": [],
   "source": [
    "\n",
    "# Define the amino acids and their properties\n",
    "amino_acids = ['Leucine', 'Isoleucine', 'Valine', 'Lysine', 'Methionine',\n",
    "               'Phenylalanine', 'Threonine', 'Tryptophan', 'Histidine',\n",
    "               'Arginine', 'Cysteine', 'Glutamine', 'Tyrosine', 'Ornithine',\n",
    "               'Alanine', 'Aspartic Acid', 'Glutamic Acid', 'Glycine', 'Proline',\n",
    "               'Serine', 'Asparagine', 'Beta-Alanine']\n",
    "\n",
    "# Simulate synthetic data for each amino acid\n",
    "np.random.seed(42)\n",
    "data = {\n",
    "    'Amino Acid': np.random.choice(amino_acids, 1000),\n",
    "    'Muscle Protein Synthesis (%)': np.random.normal(10, 2, 1000),\n",
    "    'Recovery Rate (%)': np.random.normal(8, 3, 1000),\n",
    "    'Muscle Strength (%)': np.random.normal(5, 2, 1000),\n",
    "    'Hypertrophy (%)': np.random.normal(6, 1.5, 1000)\n",
    "}\n",
    "\n",
    "# Create a DataFrame\n",
    "amino_acids_df = pd.DataFrame(data)\n",
    "display(amino_acids_df.head())\n",
    "        "
   ]
  },
  {
   "cell_type": "markdown",
   "id": "a8fcce71",
   "metadata": {},
   "source": [
    "## 3. Descriptive Analytics\n",
    "We will perform descriptive analytics to understand the average impact of each amino acid on muscle protein synthesis, recovery, strength, and hypertrophy."
   ]
  },
  {
   "cell_type": "code",
   "execution_count": null,
   "id": "c18e1c8d",
   "metadata": {},
   "outputs": [],
   "source": [
    "\n",
    "# Calculate average metrics by amino acid\n",
    "average_effects = amino_acids_df.groupby('Amino Acid').agg({\n",
    "    'Muscle Protein Synthesis (%)': 'mean',\n",
    "    'Recovery Rate (%)': 'mean',\n",
    "    'Muscle Strength (%)': 'mean',\n",
    "    'Hypertrophy (%)': 'mean'\n",
    "}).reset_index()\n",
    "\n",
    "# Display the results\n",
    "display(average_effects)\n",
    "        "
   ]
  },
  {
   "cell_type": "markdown",
   "id": "622e72f3",
   "metadata": {},
   "source": [
    "## 4. Comparative Analysis\n",
    "We will use statistical tests to compare the effectiveness of different amino acids."
   ]
  },
  {
   "cell_type": "code",
   "execution_count": null,
   "id": "5cbc8153",
   "metadata": {},
   "outputs": [],
   "source": [
    "\n",
    "# Box plots to compare muscle protein synthesis, recovery rate, muscle strength, and hypertrophy\n",
    "fig, axes = plt.subplots(2, 2, figsize=(14, 10))\n",
    "\n",
    "sns.boxplot(data=amino_acids_df, x='Amino Acid', y='Muscle Protein Synthesis (%)', ax=axes[0, 0])\n",
    "axes[0, 0].set_title('Muscle Protein Synthesis by Amino Acid')\n",
    "axes[0, 0].tick_params(axis='x', rotation=45)\n",
    "\n",
    "sns.boxplot(data=amino_acids_df, x='Amino Acid', y='Recovery Rate (%)', ax=axes[0, 1])\n",
    "axes[0, 1].set_title('Recovery Rate by Amino Acid')\n",
    "axes[0, 1].tick_params(axis='x', rotation=45)\n",
    "\n",
    "sns.boxplot(data=amino_acids_df, x='Amino Acid', y='Muscle Strength (%)', ax=axes[1, 0])\n",
    "axes[1, 0].set_title('Muscle Strength by Amino Acid')\n",
    "axes[1, 0].tick_params(axis='x', rotation=45)\n",
    "\n",
    "sns.boxplot(data=amino_acids_df, x='Amino Acid', y='Hypertrophy (%)', ax=axes[1, 1])\n",
    "axes[1, 1].set_title('Hypertrophy by Amino Acid')\n",
    "axes[1, 1].tick_params(axis='x', rotation=45)\n",
    "\n",
    "plt.tight_layout()\n",
    "plt.show()\n",
    "        "
   ]
  },
  {
   "cell_type": "markdown",
   "id": "3511b0af",
   "metadata": {},
   "source": [
    "## 5. Predictive Modeling\n",
    "We will build a model to predict the impact of an amino acid based on its properties."
   ]
  },
  {
   "cell_type": "code",
   "execution_count": null,
   "id": "06ca8eb7",
   "metadata": {},
   "outputs": [],
   "source": [
    "\n",
    "# Example of predictive modeling using linear regression\n",
    "from sklearn.model_selection import train_test_split\n",
    "from sklearn.linear_model import LinearRegression\n",
    "from sklearn.metrics import mean_squared_error, r2_score\n",
    "\n",
    "# Prepare the data for predictive modeling\n",
    "X = pd.get_dummies(amino_acids_df['Amino Acid'])\n",
    "y = amino_acids_df[['Muscle Protein Synthesis (%)', 'Recovery Rate (%)', 'Muscle Strength (%)', 'Hypertrophy (%)']]\n",
    "\n",
    "# Split the data\n",
    "X_train, X_test, y_train, y_test = train_test_split(X, y, test_size=0.2, random_state=42)\n",
    "\n",
    "# Build the model for each metric\n",
    "models = {}\n",
    "metrics = ['Muscle Protein Synthesis (%)', 'Recovery Rate (%)', 'Muscle Strength (%)', 'Hypertrophy (%)']\n",
    "for metric in metrics:\n",
    "    model = LinearRegression()\n",
    "    model.fit(X_train, y_train[metric])\n",
    "    models[metric] = model\n",
    "    y_pred = model.predict(X_test)\n",
    "    mse = mean_squared_error(y_test[metric], y_pred)\n",
    "    r2 = r2_score(y_test[metric], y_pred)\n",
    "    print(f'{metric} - Mean Squared Error: {mse}, R-squared: {r2}')\n",
    "        "
   ]
  },
  {
   "cell_type": "markdown",
   "id": "7a912828",
   "metadata": {},
   "source": [
    "## 6. Data Visualization\n",
    "Visualizations will help us understand the impact of each amino acid more clearly."
   ]
  },
  {
   "cell_type": "code",
   "execution_count": null,
   "id": "1f7fd43e",
   "metadata": {},
   "outputs": [],
   "source": [
    "\n",
    "# Scatter plot to show relationship between numerical metrics only\n",
    "numerical_cols = amino_acids_df.select_dtypes(include=[np.number])\n",
    "sns.pairplot(numerical_cols, markers='o')\n",
    "plt.suptitle('Relationships between Muscle Metrics (Numerical Data Only)', y=1.02)\n",
    "plt.show()\n",
    "            "
   ]
  },
  {
   "cell_type": "markdown",
   "id": "a064316f",
   "metadata": {},
   "source": [
    "## 7. Summary and Recommendations\n",
    "Based on the analysis, we will provide insights and recommendations about which amino acids show the most promise for muscle recovery, strength, and hypertrophy.\n",
    "\n",
    "- **Most Effective Amino Acids**: Based on the results, certain amino acids might show a higher average increase in muscle protein synthesis, recovery, strength, and hypertrophy.\n",
    "- **Further Research**: While synthetic data provides insights, real-world studies are necessary to validate the findings.\n",
    "- **Usage and Safety**: Always consult with a healthcare professional before starting any supplement regimen."
   ]
  }
 ],
 "metadata": {},
 "nbformat": 4,
 "nbformat_minor": 5
}
